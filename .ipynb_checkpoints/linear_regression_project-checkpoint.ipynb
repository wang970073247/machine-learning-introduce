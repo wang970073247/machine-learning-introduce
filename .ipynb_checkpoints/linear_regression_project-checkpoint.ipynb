{
 "cells": [
  {
   "cell_type": "markdown",
   "metadata": {},
   "source": [
    "欢迎来到线性回归项目。\n",
    "\n",
    "若项目中的题目有困难没完成也没关系，我们鼓励您带着问题提交项目，评审会给予您诸多帮助。\n",
    "\n",
    "其中证明题可以提交 pdf 格式，手写后扫描或使用公式编辑器（latex，mathtype）均可行。"
   ]
  },
  {
   "cell_type": "markdown",
   "metadata": {},
   "source": [
    "# 1 矩阵运算\n",
    "\n",
    "## 1.1 创建一个 4*4 的单位矩阵"
   ]
  },
  {
   "cell_type": "code",
   "execution_count": 1,
   "metadata": {
    "collapsed": true
   },
   "outputs": [],
   "source": [
    "# 这个项目设计来帮你熟悉 python list 和线性代数\n",
    "# 你不能调用任何python库，包括NumPy，来完成作业\n",
    "\n",
    "A = [[1,2,3], \n",
    "     [2,3,3], \n",
    "     [1,2,5]]\n",
    "\n",
    "B = [[1,2,3,5], \n",
    "     [2,3,3,5], \n",
    "     [1,2,5,1]]\n",
    "\n",
    "#TODO 创建一个 4*4 单位矩阵\n",
    "I = [[1,0,0,0],\n",
    "     [0,1,0,0],\n",
    "     [0,0,1,0],\n",
    "     [0,0,0,1]]"
   ]
  },
  {
   "cell_type": "markdown",
   "metadata": {},
   "source": [
    "## 1.2 返回矩阵的行数和列数"
   ]
  },
  {
   "cell_type": "code",
   "execution_count": 2,
   "metadata": {
    "collapsed": true
   },
   "outputs": [],
   "source": [
    "# TODO 返回矩阵的行数和列数\n",
    "def shape(M):\n",
    "    return len(M),len(M[0])"
   ]
  },
  {
   "cell_type": "code",
   "execution_count": 3,
   "metadata": {},
   "outputs": [
    {
     "name": "stderr",
     "output_type": "stream",
     "text": [
      ".\n",
      "----------------------------------------------------------------------\n",
      "Ran 1 test in 0.002s\n",
      "\n",
      "OK\n"
     ]
    }
   ],
   "source": [
    "# 运行以下代码测试你的 shape 函数\n",
    "%run -i -e test.py LinearRegressionTestCase.test_shape"
   ]
  },
  {
   "cell_type": "markdown",
   "metadata": {},
   "source": [
    "## 1.3 每个元素四舍五入到特定小数数位"
   ]
  },
  {
   "cell_type": "code",
   "execution_count": 4,
   "metadata": {
    "collapsed": true
   },
   "outputs": [],
   "source": [
    "# TODO 每个元素四舍五入到特定小数数位\n",
    "# 直接修改参数矩阵，无返回值\n",
    "def matxRound(M, decPts=4):\n",
    "    for row in M:\n",
    "        for i in range(len(row)):\n",
    "            row[i] = round(row[i], decPts)"
   ]
  },
  {
   "cell_type": "code",
   "execution_count": 5,
   "metadata": {},
   "outputs": [
    {
     "name": "stderr",
     "output_type": "stream",
     "text": [
      ".\n",
      "----------------------------------------------------------------------\n",
      "Ran 1 test in 0.078s\n",
      "\n",
      "OK\n"
     ]
    }
   ],
   "source": [
    "# 运行以下代码测试你的 matxRound 函数\n",
    "%run -i -e test.py LinearRegressionTestCase.test_matxRound"
   ]
  },
  {
   "cell_type": "markdown",
   "metadata": {},
   "source": [
    "## 1.4 计算矩阵的转置"
   ]
  },
  {
   "cell_type": "code",
   "execution_count": 6,
   "metadata": {
    "collapsed": true
   },
   "outputs": [],
   "source": [
    "# TODO 计算矩阵的转置\n",
    "def transpose(M):\n",
    "    row, col = shape(M)\n",
    "    N = [[0]*row for i in range(col)]\n",
    "    i = 0\n",
    "    while i < col:\n",
    "        j = 0\n",
    "        while j < row:\n",
    "            N[i][j] = M[j][i]\n",
    "            j += 1\n",
    "        i += 1\n",
    "    return N"
   ]
  },
  {
   "cell_type": "code",
   "execution_count": 7,
   "metadata": {
    "collapsed": true
   },
   "outputs": [],
   "source": [
    "def transpose(M):\n",
    "    row, col = shape(M)\n",
    "    N = [[0]*row for i in range(col)]\n",
    "    for i in range(col):\n",
    "        for j in range(row):\n",
    "            N[i][j] = M[j][i]\n",
    "    return N"
   ]
  },
  {
   "cell_type": "code",
   "execution_count": 8,
   "metadata": {},
   "outputs": [
    {
     "name": "stderr",
     "output_type": "stream",
     "text": [
      ".\n",
      "----------------------------------------------------------------------\n",
      "Ran 1 test in 0.011s\n",
      "\n",
      "OK\n"
     ]
    }
   ],
   "source": [
    "# 运行以下代码测试你的 transpose 函数\n",
    "%run -i -e test.py LinearRegressionTestCase.test_transpose"
   ]
  },
  {
   "cell_type": "markdown",
   "metadata": {},
   "source": [
    "## 1.5 计算矩阵乘法 AB"
   ]
  },
  {
   "cell_type": "code",
   "execution_count": 9,
   "metadata": {
    "collapsed": true
   },
   "outputs": [],
   "source": [
    "# TODO 计算矩阵乘法 AB，如果无法相乘则返回None\n",
    "\n",
    "def matxMultiply(A, B):\n",
    "    row_A, col_A = shape(A)\n",
    "    row_B, col_B = shape(B)\n",
    "    if col_A != row_B:\n",
    "        return None\n",
    "    A_mul_B = [[0]*col_B for i in range(row_A)]\n",
    "    for i in range(row_A):\n",
    "        for j in range(col_B):\n",
    "            for k in range(col_A):\n",
    "                A_mul_B[i][j] += A[i][k]*B[k][j]\n",
    "            \n",
    "    return A_mul_B\n",
    "  "
   ]
  },
  {
   "cell_type": "code",
   "execution_count": 10,
   "metadata": {},
   "outputs": [
    {
     "name": "stderr",
     "output_type": "stream",
     "text": [
      ".\n",
      "----------------------------------------------------------------------\n",
      "Ran 1 test in 0.189s\n",
      "\n",
      "OK\n"
     ]
    }
   ],
   "source": [
    "# 运行以下代码测试你的 matxMultiply 函数\n",
    "%run -i -e test.py LinearRegressionTestCase.test_matxMultiply"
   ]
  },
  {
   "cell_type": "markdown",
   "metadata": {},
   "source": [
    "---\n",
    "\n",
    "# 2 Gaussign Jordan 消元法\n",
    "\n",
    "## 2.1 构造增广矩阵\n",
    "\n",
    "$ A = \\begin{bmatrix}\n",
    "    a_{11}    & a_{12} & ... & a_{1n}\\\\\n",
    "    a_{21}    & a_{22} & ... & a_{2n}\\\\\n",
    "    a_{31}    & a_{22} & ... & a_{3n}\\\\\n",
    "    ...    & ... & ... & ...\\\\\n",
    "    a_{n1}    & a_{n2} & ... & a_{nn}\\\\\n",
    "\\end{bmatrix} , b = \\begin{bmatrix}\n",
    "    b_{1}  \\\\\n",
    "    b_{2}  \\\\\n",
    "    b_{3}  \\\\\n",
    "    ...    \\\\\n",
    "    b_{n}  \\\\\n",
    "\\end{bmatrix}$\n",
    "\n",
    "返回 $ Ab = \\begin{bmatrix}\n",
    "    a_{11}    & a_{12} & ... & a_{1n} & b_{1}\\\\\n",
    "    a_{21}    & a_{22} & ... & a_{2n} & b_{2}\\\\\n",
    "    a_{31}    & a_{22} & ... & a_{3n} & b_{3}\\\\\n",
    "    ...    & ... & ... & ...& ...\\\\\n",
    "    a_{n1}    & a_{n2} & ... & a_{nn} & b_{n} \\end{bmatrix}$"
   ]
  },
  {
   "cell_type": "code",
   "execution_count": 11,
   "metadata": {
    "collapsed": true
   },
   "outputs": [],
   "source": [
    "# TODO 构造增广矩阵，假设A，b行数相同\n",
    "def augmentMatrix(A, b):\n",
    "    import copy\n",
    "    Ab = copy.deepcopy(A)\n",
    "    row = len(Ab)\n",
    "    for i in range(row):\n",
    "        Ab[i].append(b[i][0])\n",
    "        \n",
    "    return Ab"
   ]
  },
  {
   "cell_type": "code",
   "execution_count": 12,
   "metadata": {},
   "outputs": [
    {
     "name": "stderr",
     "output_type": "stream",
     "text": [
      ".\n",
      "----------------------------------------------------------------------\n",
      "Ran 1 test in 0.014s\n",
      "\n",
      "OK\n"
     ]
    }
   ],
   "source": [
    "# 运行以下代码测试你的 augmentMatrix 函数\n",
    "%run -i -e test.py LinearRegressionTestCase.test_augmentMatrix"
   ]
  },
  {
   "cell_type": "markdown",
   "metadata": {},
   "source": [
    "## 2.2 初等行变换\n",
    "- 交换两行\n",
    "- 把某行乘以一个非零常数\n",
    "- 把某行加上另一行的若干倍："
   ]
  },
  {
   "cell_type": "code",
   "execution_count": 13,
   "metadata": {
    "collapsed": true
   },
   "outputs": [],
   "source": [
    "# TODO r1 <---> r2\n",
    "# 直接修改参数矩阵，无返回值\n",
    "def swapRows(M, r1, r2):\n",
    "    tem = M[r1]\n",
    "    M[r1] = M[r2]\n",
    "    M[r2] = tem\n",
    "\n",
    "    return None\n"
   ]
  },
  {
   "cell_type": "code",
   "execution_count": 14,
   "metadata": {},
   "outputs": [
    {
     "name": "stderr",
     "output_type": "stream",
     "text": [
      ".\n",
      "----------------------------------------------------------------------\n",
      "Ran 1 test in 0.002s\n",
      "\n",
      "OK\n"
     ]
    }
   ],
   "source": [
    "# 运行以下代码测试你的 swapRows 函数\n",
    "%run -i -e test.py LinearRegressionTestCase.test_swapRows"
   ]
  },
  {
   "cell_type": "code",
   "execution_count": 15,
   "metadata": {
    "collapsed": true
   },
   "outputs": [],
   "source": [
    "# TODO r1 <--- r1 * scale， scale!=0\n",
    "# 直接修改参数矩阵，无返回值\n",
    "def scaleRow(M, r, scale):\n",
    "    try:\n",
    "        if not scale:\n",
    "            raise ValueError\n",
    "        for i in range(len(M[0])):\n",
    "            M[r][i] *= scale\n",
    "\n",
    "        return None\n",
    "    except ValueError:\n",
    "        raise ValueError('scale cannot be 0')"
   ]
  },
  {
   "cell_type": "code",
   "execution_count": 16,
   "metadata": {},
   "outputs": [
    {
     "name": "stderr",
     "output_type": "stream",
     "text": [
      ".\n",
      "----------------------------------------------------------------------\n",
      "Ran 1 test in 0.007s\n",
      "\n",
      "OK\n"
     ]
    }
   ],
   "source": [
    "# 运行以下代码测试你的 scaleRow 函数\n",
    "%run -i -e test.py LinearRegressionTestCase.test_scaleRow"
   ]
  },
  {
   "cell_type": "code",
   "execution_count": 17,
   "metadata": {
    "collapsed": true
   },
   "outputs": [],
   "source": [
    "# TODO r1 <--- r1 + r2*scale\n",
    "# 直接修改参数矩阵，无返回值\n",
    "def addScaledRow(M, r1, r2, scale):\n",
    "    for i in range(len(M[0])):\n",
    "        M[r1][i] += M[r2][i] * scale\n",
    "        \n",
    "    return None"
   ]
  },
  {
   "cell_type": "code",
   "execution_count": 18,
   "metadata": {},
   "outputs": [
    {
     "name": "stderr",
     "output_type": "stream",
     "text": [
      ".\n",
      "----------------------------------------------------------------------\n",
      "Ran 1 test in 0.007s\n",
      "\n",
      "OK\n"
     ]
    }
   ],
   "source": [
    "# 运行以下代码测试你的 addScaledRow 函数\n",
    "%run -i -e test.py LinearRegressionTestCase.test_addScaledRow"
   ]
  },
  {
   "cell_type": "markdown",
   "metadata": {},
   "source": [
    "## 2.3  Gaussian Jordan 消元法求解 Ax = b"
   ]
  },
  {
   "cell_type": "markdown",
   "metadata": {},
   "source": [
    "### 提示：\n",
    "\n",
    "步骤1 检查A，b是否行数相同\n",
    "\n",
    "步骤2 构造增广矩阵Ab\n",
    "\n",
    "步骤3 逐列转换Ab为化简行阶梯形矩阵 [中文维基链接](https://zh.wikipedia.org/wiki/%E9%98%B6%E6%A2%AF%E5%BD%A2%E7%9F%A9%E9%98%B5#.E5.8C.96.E7.AE.80.E5.90.8E.E7.9A.84-.7Bzh-hans:.E8.A1.8C.3B_zh-hant:.E5.88.97.3B.7D-.E9.98.B6.E6.A2.AF.E5.BD.A2.E7.9F.A9.E9.98.B5)\n",
    "    \n",
    "    对于Ab的每一列（最后一列除外）\n",
    "        当前列为列c\n",
    "        寻找列c中 对角线以及对角线以下所有元素（行 c~N）的绝对值的最大值\n",
    "        如果绝对值最大值为0\n",
    "            那么A为奇异矩阵，返回None （请在问题2.4中证明该命题）\n",
    "        否则\n",
    "            使用第一个行变换，将绝对值最大值所在行交换到对角线元素所在行（行c） \n",
    "            使用第二个行变换，将列c的对角线元素缩放为1\n",
    "            多次使用第三个行变换，将列c的其他元素消为0\n",
    "            \n",
    "步骤4 返回Ab的最后一列\n",
    "\n",
    "### 注：\n",
    "我们并没有按照常规方法先把矩阵转化为行阶梯形矩阵，再转换为化简行阶梯形矩阵，而是一步到位。如果你熟悉常规方法的话，可以思考一下两者的等价性。"
   ]
  },
  {
   "cell_type": "code",
   "execution_count": 19,
   "metadata": {
    "collapsed": true
   },
   "outputs": [],
   "source": [
    "# TODO 实现 Gaussain Jordan 方法求解 Ax = b\n",
    "\n",
    "\"\"\" Gaussian Jordan 方法求解 Ax = b.\n",
    "    参数\n",
    "        A: 方阵 \n",
    "        b: 列向量\n",
    "        decPts: 四舍五入位数，默认为4\n",
    "        epsilon: 判读是否为0的阈值，默认 1.0e-16\n",
    "        \n",
    "    返回列向量 x 使得 Ax = b \n",
    "    返回None，如果 A，b 高度不同\n",
    "    返回None，如果 A 为奇异矩阵\n",
    "\"\"\"\n",
    "\n",
    "def gj_Solve(A, b, decPts=4, epsilon = 1.0e-16):\n",
    "    if len(A) != len(b):\n",
    "        return None\n",
    "    Dime = len(A)\n",
    "    Ab = augmentMatrix(A,b)\n",
    "    def is_zero(i):\n",
    "        return abs(i) < epsilon\n",
    "\n",
    "    def tri_angle(A):\n",
    "        tri_A = [[0]*Dime for k in range(Dime)]\n",
    "        for i in range(Dime):\n",
    "            for j in range(0,i+1,1):\n",
    "                tri_A[i][j] = abs(A[i][j])\n",
    "        return tri_A\n",
    "\n",
    "    for i in range(Dime):\n",
    "        tri_A = tri_angle(Ab)\n",
    "        tri_A = transpose(tri_A)\n",
    "        if (is_zero(max(tri_A[i]))):\n",
    "            return None \n",
    "        index_max_value = tri_A[i].index(max(tri_A[i]))\n",
    "        if(index_max_value != i):\n",
    "            swapRows(Ab, i, index_max_value)\n",
    "        scaleRow(Ab, i, 1.0/Ab[i][i])\n",
    "        for j in range(Dime):\n",
    "            if (j != i):\n",
    "                addScaledRow(Ab, j, i, -Ab[j][i])\n",
    "    Value = [[0] for i in range(Dime)]\n",
    "    for i in range(Dime):\n",
    "        Value[i][0] = Ab[i][Dime]\n",
    "        \n",
    "    matxRound(Value, decPts)\n",
    "    return Value\n",
    "\n"
   ]
  },
  {
   "cell_type": "code",
   "execution_count": 20,
   "metadata": {},
   "outputs": [
    {
     "name": "stderr",
     "output_type": "stream",
     "text": [
      ".\n",
      "----------------------------------------------------------------------\n",
      "Ran 1 test in 0.067s\n",
      "\n",
      "OK\n"
     ]
    }
   ],
   "source": [
    "# 运行以下代码测试你的 gj_Solve 函数\n",
    "%run -i -e test.py LinearRegressionTestCase.test_gj_Solve"
   ]
  },
  {
   "cell_type": "markdown",
   "metadata": {},
   "source": [
    "## 2.4 证明下面的命题：\n",
    "\n",
    "**如果方阵 A 可以被分为4个部分: ** \n",
    "\n",
    "$ A = \\begin{bmatrix}\n",
    "    I    & X \\\\\n",
    "    Z    & Y \\\\\n",
    "\\end{bmatrix} , \\text{其中 I 为单位矩阵，Z 为全0矩阵，Y 的第一列全0}$，\n",
    "\n",
    "**那么A为奇异矩阵。**\n",
    "\n",
    "提示：从多种角度都可以完成证明\n",
    "- 考虑矩阵 Y 和 矩阵 A 的秩\n",
    "- 考虑矩阵 Y 和 矩阵 A 的行列式\n",
    "- 考虑矩阵 A 的某一列是其他列的线性组合"
   ]
  },
  {
   "cell_type": "markdown",
   "metadata": {},
   "source": [
    "TODO 证明：\n",
    "设A为n阶方阵，I为m阶单位矩阵，则 \n",
    "$ R \\begin{bmatrix}\n",
    "    I    & X \\\\\n",
    "\\end{bmatrix}  \\text{ = m}$，\n",
    "\n",
    "又Z为全0矩阵，Y的第一列全0，且Z，Y共有（n-m）行，所以\n",
    "\n",
    "$ R \\begin{bmatrix}\n",
    "    Z    & Y \\\\\n",
    "\\end{bmatrix}  \\text{ <= m-n-1}$\n",
    "所以$ R \\begin{bmatrix}\n",
    "    I    & X \\\\\n",
    "\\end{bmatrix} $+\n",
    "$ R \\begin{bmatrix}\n",
    "    Z    & Y \\\\\n",
    "\\end{bmatrix} \\text{ <= n-1}$,即R(A) < n，所以A为奇异矩阵。"
   ]
  },
  {
   "cell_type": "code",
   "execution_count": null,
   "metadata": {
    "collapsed": true
   },
   "outputs": [],
   "source": []
  },
  {
   "cell_type": "markdown",
   "metadata": {},
   "source": [
    "---\n",
    "\n",
    "# 3 线性回归: \n",
    "\n",
    "## 3.1 计算损失函数相对于参数的导数 (两个3.1 选做其一)\n",
    "\n",
    "我们定义损失函数 $E$ ：\n",
    "$$\n",
    "E = \\sum_{i=1}^{n}{(y_i - mx_i - b)^2}\n",
    "$$\n",
    "定义向量$Y$, 矩阵$X$ 和向量$h$ :\n",
    "$$\n",
    "Y =  \\begin{bmatrix}\n",
    "    y_1 \\\\\n",
    "    y_2 \\\\\n",
    "    ... \\\\\n",
    "    y_n\n",
    "\\end{bmatrix}\n",
    ",\n",
    "X =  \\begin{bmatrix}\n",
    "    x_1 & 1 \\\\\n",
    "    x_2 & 1\\\\\n",
    "    ... & ...\\\\\n",
    "    x_n & 1 \\\\\n",
    "\\end{bmatrix},\n",
    "h =  \\begin{bmatrix}\n",
    "    m \\\\\n",
    "    b \\\\\n",
    "\\end{bmatrix}\n",
    "$$\n",
    "\n",
    "证明：\n",
    "$$\n",
    "\\frac{\\partial E}{\\partial m} = \\sum_{i=1}^{n}{-2x_i(y_i - mx_i - b)}\n",
    "$$\n",
    "\n",
    "$$\n",
    "\\frac{\\partial E}{\\partial b} = \\sum_{i=1}^{n}{-2(y_i - mx_i - b)}\n",
    "$$\n",
    "\n",
    "$$\n",
    "\\begin{bmatrix}\n",
    "    \\frac{\\partial E}{\\partial m} \\\\\n",
    "    \\frac{\\partial E}{\\partial b} \n",
    "\\end{bmatrix} = 2X^TXh - 2X^TY\n",
    "$$"
   ]
  },
  {
   "cell_type": "markdown",
   "metadata": {},
   "source": [
    "TODO 证明：(1)\n",
    "\n",
    "令\n",
    "$\n",
    "E_i = {(y_i - mx_i - b)^2} = (mx_i)^2 + 2mx_i(b-y_i) + (b-y_i)^2\n",
    "$\n",
    "则\n",
    "\n",
    "$\n",
    "\\frac{\\partial E_i}{\\partial m} = 2x_i^2m + 2x_i(b - y_i) = 2x_i(mx_i - y_i + b) = -2x_i(y_i - mx_i - b)\n",
    "$\n",
    "\n",
    "所以，\n",
    "$\n",
    "\\frac{\\partial E}{\\partial b} = \\sum_{i=1}^{n}{-2x_i(y_i - mx_i - b)}\n",
    "$\n",
    "\n",
    "证明：(2)\n",
    "\n",
    "令\n",
    "$\n",
    "E_i = {(y_i - mx_i - b)^2} = b^2 + 2(mx_i - y_i)b + (mx_i - y_i)^2\n",
    "$\n",
    "\n",
    "则\n",
    "$\n",
    "\\frac{\\partial E_i}{\\partial b} = 2b + 2(mx_i - y_i) = -2(y_i - mx_i - b)\n",
    "$\n",
    "\n",
    "所以，\n",
    "$\n",
    "\\frac{\\partial E}{\\partial m} = \\sum_{i = 1}^{n}{-2(y_i - mx_i - b)}\n",
    "$\n",
    "\n",
    "证明:(3)\n",
    "\n",
    "由（1）与（2）得，\n",
    "$\n",
    "\\begin{bmatrix}\n",
    "    \\frac{\\partial E}{\\partial m} \\\\\n",
    "    \\frac{\\partial E}{\\partial b} \n",
    "\\end{bmatrix} = \n",
    " \\begin{bmatrix}\n",
    "    \\sum_{i=1}^{n}{-2x_i(y_i - mx_i - b)} \\\\\n",
    "    \\sum_{i = 1}^{n}{-2(y_i - mx_i - b)} \\\\\n",
    "\\end{bmatrix}\n",
    "$\n",
    "\n",
    "$\n",
    "2X^TXh - 2X^TY = -2X^T(Y - Xh）\n",
    "$\n",
    "又\n",
    "$\n",
    "X^T =  \\begin{bmatrix}\n",
    "    x_1 & x_2 & ... & x_n \\\\\n",
    "    1   & 1  & ... & 1\\\\\n",
    "\\end{bmatrix},\n",
    "$\n",
    "$\n",
    "Y -Xh =  \\begin{bmatrix}\n",
    "       y_1 - mx_1 - b\\\\\n",
    "       y_2 - mx_2 - b\\\\\n",
    "       ...     ... \\\\\n",
    "       y_n - mx_n - b\\\\\n",
    "\\end{bmatrix}\n",
    "$\n",
    "\n",
    "\n",
    "\n",
    "所以，\n",
    "$\n",
    "-2X^T(Y - Xh）= -2\n",
    "$\n",
    "$\n",
    "\\begin{bmatrix}\n",
    "     x_1 & x_2 & ... & x_n\\\\\n",
    "     1   & 1  & ... & 1\\\\\n",
    "\\end{bmatrix} \n",
    " \\begin{bmatrix}\n",
    "     y_1 - mx_1 - b\\\\\n",
    "     y_2 - mx_2 - b\\\\\n",
    "     ...     ... \\\\\n",
    "     y_n - mx_n - b\\\\\n",
    "\\end{bmatrix} = \n",
    "\\begin{bmatrix}\n",
    "     \\sum_{i=1}^{n}{-2x_i(y_i - mx_i - b)} \\\\\n",
    "     \\sum_{i=1}^{n}{-2(y_i - mx_i - b)} \\\\\n",
    "\\end{bmatrix}\n",
    "$\n",
    "\n",
    "得，\n",
    "$\n",
    "\\begin{bmatrix}\n",
    "    \\frac{\\partial E}{\\partial m} \\\\\n",
    "    \\frac{\\partial E}{\\partial b} \n",
    "\\end{bmatrix} = 2X^TXh - 2X^TY\n",
    "$"
   ]
  },
  {
   "cell_type": "code",
   "execution_count": null,
   "metadata": {
    "collapsed": true
   },
   "outputs": [],
   "source": []
  },
  {
   "cell_type": "markdown",
   "metadata": {},
   "source": [
    "## 3.1 计算损失函数相对于参数的导数（两个3.1 选做其一）\n",
    "\n",
    "我们定义损失函数 $E$ ：\n",
    "$$\n",
    "E = \\sum_{i=1}^{n}{(y_i - mx_i - b)^2}\n",
    "$$\n",
    "定义向量$Y$, 矩阵$X$ 和向量$h$ :\n",
    "$$\n",
    "Y =  \\begin{bmatrix}\n",
    "    y_1 \\\\\n",
    "    y_2 \\\\\n",
    "    ... \\\\\n",
    "    y_n\n",
    "\\end{bmatrix}\n",
    ",\n",
    "X =  \\begin{bmatrix}\n",
    "    x_1 & 1 \\\\\n",
    "    x_2 & 1\\\\\n",
    "    ... & ...\\\\\n",
    "    x_n & 1 \\\\\n",
    "\\end{bmatrix},\n",
    "h =  \\begin{bmatrix}\n",
    "    m \\\\\n",
    "    b \\\\\n",
    "\\end{bmatrix}\n",
    "$$\n",
    "\n",
    "证明：\n",
    "\n",
    "$$\n",
    "E = Y^TY -2(Xh)^TY + (Xh)^TXh\n",
    "$$ \n",
    "\n",
    "$$\n",
    "\\begin{bmatrix}\n",
    "    \\frac{\\partial E}{\\partial m} \\\\\n",
    "    \\frac{\\partial E}{\\partial b} \n",
    "\\end{bmatrix}  = \\frac{\\partial E}{\\partial h} = 2X^TXh - 2X^TY\n",
    "$$"
   ]
  },
  {
   "cell_type": "markdown",
   "metadata": {},
   "source": [
    "TODO 请使用 latex （请参照题目的 latex 写法学习）\n",
    "\n",
    "TODO 证明：设A为n阶方阵，I为m阶单位矩阵"
   ]
  },
  {
   "cell_type": "markdown",
   "metadata": {},
   "source": [
    "## 3.2  线性回归\n",
    "\n",
    "### 求解方程 $X^TXh = X^TY $, 计算线性回归的最佳参数 h \n",
    "*如果你想更深入地了解Normal Equation是如何做线性回归的，可以看看MIT的线性代数公开课，相关内容在[投影矩阵与最小二乘](http://open.163.com/movie/2010/11/P/U/M6V0BQC4M_M6V2AOJPU.html)。*"
   ]
  },
  {
   "cell_type": "code",
   "execution_count": 21,
   "metadata": {
    "collapsed": true
   },
   "outputs": [],
   "source": [
    "# TODO 实现线性回归\n",
    "'''\n",
    "参数：(x,y) 二元组列表\n",
    "返回：m，b\n",
    "'''\n",
    "def linearRegression(points):\n",
    "    points_count = len(points)\n",
    "    X = [[1]* 2 for i in range(points_count)]\n",
    "    Y = [[0] for i in range(points_count)]\n",
    "    for i in range(points_count):\n",
    "        X[i][0] = points[i][0]\n",
    "        Y[i][0] = points[i][1]\n",
    "    transX = transpose(X)\n",
    "    transX_mult_X = matxMultiply(transX, X)\n",
    "    transX_mult_Y = matxMultiply(transX, Y)\n",
    "    m_b = gj_Solve(transX_mult_X, transX_mult_Y)\n",
    "    m = m_b[0][0]\n",
    "    b = m_b[1][0]\n",
    "    return m,b"
   ]
  },
  {
   "cell_type": "markdown",
   "metadata": {},
   "source": [
    "## 3.3 测试你的线性回归实现"
   ]
  },
  {
   "cell_type": "code",
   "execution_count": 22,
   "metadata": {},
   "outputs": [
    {
     "name": "stdout",
     "output_type": "stream",
     "text": [
      "standard m = 2.0    standard b = 3.0\n",
      "the best estimate m = 1.9987    the best estimate b = 3.0946\n"
     ]
    }
   ],
   "source": [
    "# TODO 构造线性函数\n",
    "# TODO 构造 100 个线性函数上的点，加上适当的高斯噪音\n",
    "#TODO 对这100个点进行线性回归，将线性回归得到的函数和原线性函数比较\n",
    "def linearTest():\n",
    "    import random\n",
    "    m = 2.0\n",
    "    b = 3.0\n",
    "    gauss_value = []\n",
    "    linear_points = [[0]*2 for i in range(100)]\n",
    "    gauss_points = [[0]*2 for i in range(100)]\n",
    "    for i in range(100):\n",
    "        s = random.gauss(0,1)\n",
    "        gauss_value.append(s)\n",
    "        linear_points[i][0] = i + 1\n",
    "        linear_points[i][1] = 2*(i + 1) + 3\n",
    "        gauss_points[i][0] = i + 1\n",
    "        gauss_points[i][1] = 2*(i + 1) + 3 + s\n",
    "    m_best, b_best = linearRegression(gauss_points)\n",
    "    print 'standard m =', m, '   standard b =', b\n",
    "    print 'the best estimate m =', m_best, '   the best estimate b =', b_best\n",
    "    return None\n",
    "linearTest()\n"
   ]
  },
  {
   "cell_type": "code",
   "execution_count": null,
   "metadata": {
    "collapsed": true
   },
   "outputs": [],
   "source": []
  }
 ],
 "metadata": {
  "anaconda-cloud": {},
  "celltoolbar": "Raw Cell Format",
  "kernelspec": {
   "display_name": "Python 2",
   "language": "python",
   "name": "python2"
  },
  "language_info": {
   "codemirror_mode": {
    "name": "ipython",
    "version": 2
   },
   "file_extension": ".py",
   "mimetype": "text/x-python",
   "name": "python",
   "nbconvert_exporter": "python",
   "pygments_lexer": "ipython2",
   "version": "2.7.13"
  }
 },
 "nbformat": 4,
 "nbformat_minor": 2
}
